{
 "cells": [
  {
   "cell_type": "code",
   "execution_count": 1,
   "metadata": {},
   "outputs": [],
   "source": [
    "# benjamin_wolcott@brown.edu, wolcottb\n",
    "# HW 1\n",
    "\n",
    "import numpy as np\n",
    "import matplotlib.pyplot as plt\n",
    "import scipy as sp\n",
    "import scipy.signal\n",
    "%matplotlib inline  "
   ]
  },
  {
   "cell_type": "code",
   "execution_count": 30,
   "metadata": {},
   "outputs": [],
   "source": []
  },
  {
   "cell_type": "code",
   "execution_count": 43,
   "metadata": {},
   "outputs": [
    {
     "data": {
      "text/plain": [
       "Text(0, 0.5, 'V_out (units)')"
      ]
     },
     "execution_count": 43,
     "metadata": {},
     "output_type": "execute_result"
    },
    {
     "data": {
      "image/png": "[encoded data removed]",
      "text/plain": [
       "<Figure size 432x288 with 1 Axes>"
      ]
     },
     "metadata": {
      "needs_background": "light"
     },
     "output_type": "display_data"
    },
    {
     "data": {
      "image/png": "[encoded data removed]",
      "text/plain": [
       "<Figure size 432x288 with 1 Axes>"
      ]
     },
     "metadata": {
      "needs_background": "light"
     },
     "output_type": "display_data"
    }
   ],
   "source": [
    "# Problem 1\n",
    "\n",
    "# Using V_c = V_in*(1 - exp(-t/R/C)) and V_in - V_out - V_c = 0, we get V_out = V_in*exp(-t/R/C)\n",
    "# and dV_out/dt = (-1/R/C)*V_c\n",
    "\n",
    "# Use RK4 integrator to solve for square wave input signal\n",
    "# ODE Integrator Using RK4 Method\n",
    "\n",
    "def approx_rk4(dt, t_final, R, C, V_in, V0, t0=0.0):\n",
    "    \n",
    "    # number of time steps, nust be an integer\n",
    "    n  = int(t_final/dt) \n",
    "    \n",
    "    #initialize some empty lists to store our data and time steps\n",
    "    V_list = []\n",
    "    t_list = []\n",
    "    \n",
    "    # the main loop over all time steps\n",
    "    for ii in range(n):\n",
    "        if ii == 0.0:\n",
    "            # set initial conditions at time zero\n",
    "            V = V0\n",
    "            t = t0\n",
    "        else :            \n",
    "            k1 = -dt*(V - V_in(t))\n",
    "            V1 = V + k1/2\n",
    "            k2 = dt*g(R, C, V_in(t), V1)\n",
    "            V2 = V + k2/2\n",
    "            k3 = dt*g(R, C, V_in(t), V2)\n",
    "            V3 = V + k3\n",
    "            k4 = dt*g(R, C, V_in(t), V3)\n",
    "            \n",
    "            # update value of Q at each time step and step time by dt\n",
    "            V+= (1/6)*(k1 + 2*k2 + 2*k3 + k4)\n",
    "            t+= dt\n",
    "            \n",
    "            \n",
    "        # use append to add on to the end of a list\n",
    "        V_list.append(V)\n",
    "        t_list.append(t)\n",
    "    \n",
    "    # we turn the lists into numpy arrays before returning\n",
    "    \n",
    "    V_list = np.array(V_list)\n",
    "    t_list = np.array(t_list)\n",
    "    \n",
    "    return t_list, V_list\n",
    "\n",
    "def g(R, C, V_in, V):\n",
    "    g = (1/R/C)*(V - V_in)\n",
    "    return g\n",
    "\n",
    "# Define our constants\n",
    "V0, t0 = 0.0, 0.0\n",
    "t_final, dt = 10, 0.001\n",
    "R, C = 1, 1\n",
    "\n",
    "# Define t and V_in\n",
    "t = np.linspace(t0,t_final,10000) \n",
    "\n",
    "def V_in(t):\n",
    "    V_in = sp.signal.square(t*2*np.pi)\n",
    "    return V_in\n",
    "\n",
    "V_inplot = sp.signal.square(t*2*np.pi)\n",
    "plt.plot(t, V_inplot)\n",
    "plt.xlabel(\"time (units)\")\n",
    "plt.ylabel(\"V_in (units)\")\n",
    "\n",
    "#Call our  approximate function, this returns function values and time points \n",
    "t_approx4, V_approx4 = approx_rk4(dt, t_final, R, C, V_in, V0)\n",
    "\n",
    "\n",
    "# Generate plots \n",
    "fig = plt.figure()\n",
    "ax = fig.add_subplot(111)\n",
    "ax.plot(t_approx4, V_approx4, linestyle = '-', label = \"rk4\")\n",
    "\n",
    "\n",
    "# plot approximate solution (use discrete points with no connecting line)\n",
    "#ax.plot()\n",
    "\n",
    "plt.legend()\n",
    "plt.xlabel(\"time (units)\")\n",
    "plt.ylabel(\"V_out (units)\")\n"
   ]
  },
  {
   "cell_type": "code",
   "execution_count": 28,
   "metadata": {},
   "outputs": [
    {
     "name": "stdout",
     "output_type": "stream",
     "text": [
      "[100 100]\n",
      "[95. 95.]\n",
      "[90 82]\n",
      "[85.5 77.9]\n",
      "[81 67]\n",
      "[76.95 63.65]\n",
      "[73 54]\n",
      "[69.35 51.3 ]\n",
      "[66 43]\n",
      "[62.7  40.85]\n",
      "[59 33]\n",
      "[56.05 31.35]\n",
      "[53 25]\n",
      "[50.35 23.75]\n",
      "[47 18]\n",
      "[44.65 17.1 ]\n",
      "[42 12]\n",
      "[39.9 11.4]\n",
      "[38  7]\n",
      "[36.1   6.65]\n",
      "[34  3]\n",
      "[32.3   2.85]\n",
      "[30  0]\n",
      "[28.5  0. ]\n",
      "[27 -2]\n",
      "[25.65 -1.9 ]\n",
      "[24 -3]\n",
      "[22.8  -2.85]\n",
      "[21 -4]\n",
      "[19.95 -3.8 ]\n",
      "[19 -5]\n",
      "[18.05 -4.75]\n",
      "[17 -5]\n",
      "[16.15 -4.75]\n",
      "[15 -5]\n",
      "[14.25 -4.75]\n",
      "[13 -5]\n",
      "[12.35 -4.75]\n",
      "[11 -5]\n",
      "[10.45 -4.75]\n",
      "[ 9 -5]\n",
      "[ 8.55 -4.75]\n",
      "[ 8 -5]\n",
      "[ 7.6  -4.75]\n",
      "[ 7 -5]\n",
      "[ 6.65 -4.75]\n",
      "[ 6 -5]\n",
      "[ 5.7  -4.75]\n",
      "[ 5 -4]\n",
      "[ 4.75 -3.8 ]\n",
      "[ 4 -3]\n",
      "[ 3.8  -2.85]\n",
      "[ 3 -3]\n",
      "[ 2.85 -2.85]\n",
      "[ 2 -2]\n",
      "[ 1.9 -1.9]\n",
      "[ 1 -1]\n",
      "[ 0.95 -0.95]\n",
      "[0 0]\n",
      "[0. 0.]\n",
      "[0 0]\n",
      "[0. 0.]\n",
      "[0 0]\n",
      "[0. 0.]\n",
      "[0 0]\n",
      "[0. 0.]\n",
      "[0 0]\n",
      "[0. 0.]\n",
      "[0 0]\n",
      "[0. 0.]\n",
      "[0 0]\n",
      "[0. 0.]\n",
      "[0 0]\n",
      "[0. 0.]\n",
      "[0 0]\n",
      "[0. 0.]\n",
      "[0 0]\n",
      "[0. 0.]\n",
      "[0 0]\n",
      "[0. 0.]\n",
      "[0 0]\n",
      "[0. 0.]\n",
      "[0 0]\n",
      "[0. 0.]\n",
      "[0 0]\n",
      "[0. 0.]\n",
      "[0 0]\n",
      "[0. 0.]\n",
      "[0 0]\n",
      "[0. 0.]\n",
      "[0 0]\n",
      "[0. 0.]\n",
      "[0 0]\n",
      "[0. 0.]\n",
      "[0 0]\n",
      "[0. 0.]\n",
      "[0 0]\n",
      "[0. 0.]\n",
      "[0 0]\n",
      "[0. 0.]\n",
      "[0 0]\n",
      "[0. 0.]\n",
      "[0 0]\n",
      "[0. 0.]\n",
      "[0 0]\n",
      "[0. 0.]\n",
      "[0 0]\n",
      "[0. 0.]\n",
      "[0 0]\n",
      "[0. 0.]\n",
      "[0 0]\n",
      "[0. 0.]\n",
      "[0 0]\n",
      "[0. 0.]\n",
      "[0 0]\n",
      "[0. 0.]\n",
      "[0 0]\n",
      "[0. 0.]\n",
      "[0 0]\n",
      "[0. 0.]\n",
      "[0 0]\n",
      "[0. 0.]\n",
      "[0 0]\n",
      "[0. 0.]\n",
      "[0 0]\n",
      "[0. 0.]\n",
      "[0 0]\n",
      "[0. 0.]\n",
      "[0 0]\n",
      "[0. 0.]\n",
      "[0 0]\n",
      "[0. 0.]\n",
      "[0 0]\n",
      "[0. 0.]\n",
      "[0 0]\n",
      "[0. 0.]\n",
      "[0 0]\n",
      "[0. 0.]\n",
      "[0 0]\n",
      "[0. 0.]\n",
      "[0 0]\n",
      "[0. 0.]\n",
      "[0 0]\n",
      "[0. 0.]\n",
      "[0 0]\n",
      "[0. 0.]\n",
      "[0 0]\n",
      "[0. 0.]\n",
      "[0 0]\n",
      "[0. 0.]\n",
      "[0 0]\n",
      "[0. 0.]\n",
      "[0 0]\n",
      "[0. 0.]\n",
      "[0 0]\n",
      "[0. 0.]\n",
      "[0 0]\n",
      "[0. 0.]\n",
      "[0 0]\n",
      "[0. 0.]\n",
      "[0 0]\n",
      "[0. 0.]\n",
      "[0 0]\n",
      "[0. 0.]\n",
      "[0 0]\n",
      "[0. 0.]\n",
      "[0 0]\n",
      "[0. 0.]\n",
      "[0 0]\n",
      "[0. 0.]\n",
      "[0 0]\n",
      "[0. 0.]\n",
      "[0 0]\n",
      "[0. 0.]\n",
      "[0 0]\n",
      "[0. 0.]\n",
      "[0 0]\n",
      "[0. 0.]\n",
      "[0 0]\n",
      "[0. 0.]\n",
      "[0 0]\n",
      "[0. 0.]\n",
      "[0 0]\n",
      "[0. 0.]\n",
      "[0 0]\n",
      "[0. 0.]\n",
      "[0 0]\n",
      "[0. 0.]\n",
      "[0 0]\n",
      "[0. 0.]\n",
      "[0 0]\n",
      "[0. 0.]\n",
      "[0 0]\n",
      "[0. 0.]\n",
      "[0 0]\n",
      "[0. 0.]\n",
      "[0 0]\n",
      "[0. 0.]\n",
      "[0 0]\n"
     ]
    },
    {
     "data": {
      "text/plain": [
       "100.0"
      ]
     },
     "execution_count": 28,
     "metadata": {},
     "output_type": "execute_result"
    }
   ],
   "source": [
    "# ODE Integrator Using RK4 Method\n",
    "\n",
    "def approx_rk4(dt, t_final, N_a0, N_b0, T_a, T_b, t0=0.0):\n",
    "    \n",
    "    # number of time steps, nust be an integer\n",
    "    npoints  = int(t_final/dt) \n",
    "    #initialize some empty lists to store our data and time steps\n",
    "    N_list = []\n",
    "    N_list = np.array(N_list)\n",
    "    t_list = []\n",
    "    \n",
    "    # the main loop over all time steps\n",
    "    for ii in range(npoints):\n",
    "        if ii == 0.0:\n",
    "            # set initial conditions at time zero\n",
    "            N = np.array([N_a0, N_b0])\n",
    "            t = t0\n",
    "            #print(N)\n",
    "            #print(N*-.1)\n",
    "        else :            \n",
    "            #print(N)\n",
    "            k1 = N*-.1\n",
    "            #print(k1)\n",
    "            N1 = N + k1/2\n",
    "            print(N1)\n",
    "            k2 = dt*g(N1[0], N1[1], T_a, T_b)\n",
    "            N2 = N + k2/2\n",
    "            k3 = dt*g(N2[0], N2[1], T_a, T_b)\n",
    "            N3 = N + k3\n",
    "            k4 = dt*g(N3[0], N3[1], T_a, T_b)\n",
    "            \n",
    "            # update value of N at each time step and step time by dt\n",
    "            N[0] += (1/6)*(k1[0] + 2*k2[0] + 2*k3[0] + k4[0])\n",
    "            N[1] += (1/6)*(k1[1] + 2*k2[1] + 2*k3[1] + k4[1])\n",
    "            t+= dt\n",
    "            \n",
    "       \n",
    "            #k1 = N*-.1\n",
    "        # use append to add on to the end of a list\n",
    "        #N = np.array([N[0], N[1]])\n",
    "        N_list = np.append(N_list, N)\n",
    "        t_list.append(t)\n",
    "        print(N)\n",
    "    \n",
    "    # we turn the lists into numpy arrays before returning\n",
    "    \n",
    "    t_list = np.array(t_list)\n",
    "    \n",
    "    return t_list, N_list\n",
    "\n",
    "\n",
    "\n",
    "# Problem 2\n",
    "\n",
    "def g(N_a, N_b, T_a, T_b):\n",
    "    list = [-N_a/T_a, (-N_a/T_a) -(N_b/T_b)]\n",
    "    g = np.array(list)\n",
    "    return g\n",
    "\n",
    "N_a0, N_b0 = 100, 100\n",
    "T_a, T_b = 1, 1\n",
    "t0 = 0\n",
    "t_final, dt = 10, 0.1\n",
    "\n",
    "t_list, N_list = approx_rk4(dt, t_final, N_a0, N_b0, T_a, T_b)\n",
    "\n",
    "t_list\n",
    "N_list[0]"
   ]
  },
  {
   "cell_type": "code",
   "execution_count": 45,
   "metadata": {},
   "outputs": [
    {
     "ename": "ValueError",
     "evalue": "x and y must have same first dimension, but have shapes (100,) and (1,)",
     "output_type": "error",
     "traceback": [
      "\u001b[0;31m---------------------------------------------------------------------------\u001b[0m",
      "\u001b[0;31mValueError\u001b[0m                                Traceback (most recent call last)",
      "\u001b[0;32m<ipython-input-45-107a1be596c2>\u001b[0m in \u001b[0;36m<module>\u001b[0;34m\u001b[0m\n\u001b[1;32m      2\u001b[0m \u001b[0mfig\u001b[0m \u001b[0;34m=\u001b[0m \u001b[0mplt\u001b[0m\u001b[0;34m.\u001b[0m\u001b[0mfigure\u001b[0m\u001b[0;34m(\u001b[0m\u001b[0;34m)\u001b[0m\u001b[0;34m\u001b[0m\u001b[0;34m\u001b[0m\u001b[0m\n\u001b[1;32m      3\u001b[0m \u001b[0max\u001b[0m \u001b[0;34m=\u001b[0m \u001b[0mfig\u001b[0m\u001b[0;34m.\u001b[0m\u001b[0madd_subplot\u001b[0m\u001b[0;34m(\u001b[0m\u001b[0;36m111\u001b[0m\u001b[0;34m)\u001b[0m\u001b[0;34m\u001b[0m\u001b[0;34m\u001b[0m\u001b[0m\n\u001b[0;32m----> 4\u001b[0;31m \u001b[0max\u001b[0m\u001b[0;34m.\u001b[0m\u001b[0mplot\u001b[0m\u001b[0;34m(\u001b[0m\u001b[0mt_list\u001b[0m\u001b[0;34m,\u001b[0m \u001b[0mN\u001b[0m\u001b[0;34m[\u001b[0m\u001b[0;36m0\u001b[0m\u001b[0;34m]\u001b[0m\u001b[0;34m,\u001b[0m \u001b[0mlinestyle\u001b[0m \u001b[0;34m=\u001b[0m \u001b[0;34m'-'\u001b[0m\u001b[0;34m,\u001b[0m \u001b[0mlabel\u001b[0m \u001b[0;34m=\u001b[0m \u001b[0;34m\"N_a\"\u001b[0m\u001b[0;34m)\u001b[0m\u001b[0;34m\u001b[0m\u001b[0;34m\u001b[0m\u001b[0m\n\u001b[0m\u001b[1;32m      5\u001b[0m \u001b[0;34m\u001b[0m\u001b[0m\n\u001b[1;32m      6\u001b[0m \u001b[0;31m# plot approximate solution (use discrete points with no connecting line)\u001b[0m\u001b[0;34m\u001b[0m\u001b[0;34m\u001b[0m\u001b[0;34m\u001b[0m\u001b[0m\n",
      "\u001b[0;32m/opt/conda/lib/python3.7/site-packages/matplotlib/axes/_axes.py\u001b[0m in \u001b[0;36mplot\u001b[0;34m(self, scalex, scaley, data, *args, **kwargs)\u001b[0m\n\u001b[1;32m   1663\u001b[0m         \"\"\"\n\u001b[1;32m   1664\u001b[0m         \u001b[0mkwargs\u001b[0m \u001b[0;34m=\u001b[0m \u001b[0mcbook\u001b[0m\u001b[0;34m.\u001b[0m\u001b[0mnormalize_kwargs\u001b[0m\u001b[0;34m(\u001b[0m\u001b[0mkwargs\u001b[0m\u001b[0;34m,\u001b[0m \u001b[0mmlines\u001b[0m\u001b[0;34m.\u001b[0m\u001b[0mLine2D\u001b[0m\u001b[0;34m.\u001b[0m\u001b[0m_alias_map\u001b[0m\u001b[0;34m)\u001b[0m\u001b[0;34m\u001b[0m\u001b[0;34m\u001b[0m\u001b[0m\n\u001b[0;32m-> 1665\u001b[0;31m         \u001b[0mlines\u001b[0m \u001b[0;34m=\u001b[0m \u001b[0;34m[\u001b[0m\u001b[0;34m*\u001b[0m\u001b[0mself\u001b[0m\u001b[0;34m.\u001b[0m\u001b[0m_get_lines\u001b[0m\u001b[0;34m(\u001b[0m\u001b[0;34m*\u001b[0m\u001b[0margs\u001b[0m\u001b[0;34m,\u001b[0m \u001b[0mdata\u001b[0m\u001b[0;34m=\u001b[0m\u001b[0mdata\u001b[0m\u001b[0;34m,\u001b[0m \u001b[0;34m**\u001b[0m\u001b[0mkwargs\u001b[0m\u001b[0;34m)\u001b[0m\u001b[0;34m]\u001b[0m\u001b[0;34m\u001b[0m\u001b[0;34m\u001b[0m\u001b[0m\n\u001b[0m\u001b[1;32m   1666\u001b[0m         \u001b[0;32mfor\u001b[0m \u001b[0mline\u001b[0m \u001b[0;32min\u001b[0m \u001b[0mlines\u001b[0m\u001b[0;34m:\u001b[0m\u001b[0;34m\u001b[0m\u001b[0;34m\u001b[0m\u001b[0m\n\u001b[1;32m   1667\u001b[0m             \u001b[0mself\u001b[0m\u001b[0;34m.\u001b[0m\u001b[0madd_line\u001b[0m\u001b[0;34m(\u001b[0m\u001b[0mline\u001b[0m\u001b[0;34m)\u001b[0m\u001b[0;34m\u001b[0m\u001b[0;34m\u001b[0m\u001b[0m\n",
      "\u001b[0;32m/opt/conda/lib/python3.7/site-packages/matplotlib/axes/_base.py\u001b[0m in \u001b[0;36m__call__\u001b[0;34m(self, *args, **kwargs)\u001b[0m\n\u001b[1;32m    223\u001b[0m                 \u001b[0mthis\u001b[0m \u001b[0;34m+=\u001b[0m \u001b[0margs\u001b[0m\u001b[0;34m[\u001b[0m\u001b[0;36m0\u001b[0m\u001b[0;34m]\u001b[0m\u001b[0;34m,\u001b[0m\u001b[0;34m\u001b[0m\u001b[0;34m\u001b[0m\u001b[0m\n\u001b[1;32m    224\u001b[0m                 \u001b[0margs\u001b[0m \u001b[0;34m=\u001b[0m \u001b[0margs\u001b[0m\u001b[0;34m[\u001b[0m\u001b[0;36m1\u001b[0m\u001b[0;34m:\u001b[0m\u001b[0;34m]\u001b[0m\u001b[0;34m\u001b[0m\u001b[0;34m\u001b[0m\u001b[0m\n\u001b[0;32m--> 225\u001b[0;31m             \u001b[0;32myield\u001b[0m \u001b[0;32mfrom\u001b[0m \u001b[0mself\u001b[0m\u001b[0;34m.\u001b[0m\u001b[0m_plot_args\u001b[0m\u001b[0;34m(\u001b[0m\u001b[0mthis\u001b[0m\u001b[0;34m,\u001b[0m \u001b[0mkwargs\u001b[0m\u001b[0;34m)\u001b[0m\u001b[0;34m\u001b[0m\u001b[0;34m\u001b[0m\u001b[0m\n\u001b[0m\u001b[1;32m    226\u001b[0m \u001b[0;34m\u001b[0m\u001b[0m\n\u001b[1;32m    227\u001b[0m     \u001b[0;32mdef\u001b[0m \u001b[0mget_next_color\u001b[0m\u001b[0;34m(\u001b[0m\u001b[0mself\u001b[0m\u001b[0;34m)\u001b[0m\u001b[0;34m:\u001b[0m\u001b[0;34m\u001b[0m\u001b[0;34m\u001b[0m\u001b[0m\n",
      "\u001b[0;32m/opt/conda/lib/python3.7/site-packages/matplotlib/axes/_base.py\u001b[0m in \u001b[0;36m_plot_args\u001b[0;34m(self, tup, kwargs)\u001b[0m\n\u001b[1;32m    389\u001b[0m             \u001b[0mx\u001b[0m\u001b[0;34m,\u001b[0m \u001b[0my\u001b[0m \u001b[0;34m=\u001b[0m \u001b[0mindex_of\u001b[0m\u001b[0;34m(\u001b[0m\u001b[0mtup\u001b[0m\u001b[0;34m[\u001b[0m\u001b[0;34m-\u001b[0m\u001b[0;36m1\u001b[0m\u001b[0;34m]\u001b[0m\u001b[0;34m)\u001b[0m\u001b[0;34m\u001b[0m\u001b[0;34m\u001b[0m\u001b[0m\n\u001b[1;32m    390\u001b[0m \u001b[0;34m\u001b[0m\u001b[0m\n\u001b[0;32m--> 391\u001b[0;31m         \u001b[0mx\u001b[0m\u001b[0;34m,\u001b[0m \u001b[0my\u001b[0m \u001b[0;34m=\u001b[0m \u001b[0mself\u001b[0m\u001b[0;34m.\u001b[0m\u001b[0m_xy_from_xy\u001b[0m\u001b[0;34m(\u001b[0m\u001b[0mx\u001b[0m\u001b[0;34m,\u001b[0m \u001b[0my\u001b[0m\u001b[0;34m)\u001b[0m\u001b[0;34m\u001b[0m\u001b[0;34m\u001b[0m\u001b[0m\n\u001b[0m\u001b[1;32m    392\u001b[0m \u001b[0;34m\u001b[0m\u001b[0m\n\u001b[1;32m    393\u001b[0m         \u001b[0;32mif\u001b[0m \u001b[0mself\u001b[0m\u001b[0;34m.\u001b[0m\u001b[0mcommand\u001b[0m \u001b[0;34m==\u001b[0m \u001b[0;34m'plot'\u001b[0m\u001b[0;34m:\u001b[0m\u001b[0;34m\u001b[0m\u001b[0;34m\u001b[0m\u001b[0m\n",
      "\u001b[0;32m/opt/conda/lib/python3.7/site-packages/matplotlib/axes/_base.py\u001b[0m in \u001b[0;36m_xy_from_xy\u001b[0;34m(self, x, y)\u001b[0m\n\u001b[1;32m    268\u001b[0m         \u001b[0;32mif\u001b[0m \u001b[0mx\u001b[0m\u001b[0;34m.\u001b[0m\u001b[0mshape\u001b[0m\u001b[0;34m[\u001b[0m\u001b[0;36m0\u001b[0m\u001b[0;34m]\u001b[0m \u001b[0;34m!=\u001b[0m \u001b[0my\u001b[0m\u001b[0;34m.\u001b[0m\u001b[0mshape\u001b[0m\u001b[0;34m[\u001b[0m\u001b[0;36m0\u001b[0m\u001b[0;34m]\u001b[0m\u001b[0;34m:\u001b[0m\u001b[0;34m\u001b[0m\u001b[0;34m\u001b[0m\u001b[0m\n\u001b[1;32m    269\u001b[0m             raise ValueError(\"x and y must have same first dimension, but \"\n\u001b[0;32m--> 270\u001b[0;31m                              \"have shapes {} and {}\".format(x.shape, y.shape))\n\u001b[0m\u001b[1;32m    271\u001b[0m         \u001b[0;32mif\u001b[0m \u001b[0mx\u001b[0m\u001b[0;34m.\u001b[0m\u001b[0mndim\u001b[0m \u001b[0;34m>\u001b[0m \u001b[0;36m2\u001b[0m \u001b[0;32mor\u001b[0m \u001b[0my\u001b[0m\u001b[0;34m.\u001b[0m\u001b[0mndim\u001b[0m \u001b[0;34m>\u001b[0m \u001b[0;36m2\u001b[0m\u001b[0;34m:\u001b[0m\u001b[0;34m\u001b[0m\u001b[0;34m\u001b[0m\u001b[0m\n\u001b[1;32m    272\u001b[0m             raise ValueError(\"x and y can be no greater than 2-D, but have \"\n",
      "\u001b[0;31mValueError\u001b[0m: x and y must have same first dimension, but have shapes (100,) and (1,)"
     ]
    },
    {
     "data": {
      "image/png": "[encoded data removed]",
      "text/plain": [
       "<Figure size 432x288 with 1 Axes>"
      ]
     },
     "metadata": {
      "needs_background": "light"
     },
     "output_type": "display_data"
    }
   ],
   "source": [
    "# Generate plots \n",
    "fig = plt.figure()\n",
    "ax = fig.add_subplot(111)\n",
    "ax.plot(t_list, N[0], linestyle = '-', label = \"N_a\")\n",
    "\n",
    "# plot approximate solution (use discrete points with no connecting line)\n",
    "ax.plot()\n",
    "\n",
    "plt.legend()\n",
    "plt.xlabel(\"time (units)\")\n",
    "plt.ylabel(\"Capacitor charge (units)\")"
   ]
  },
  {
   "cell_type": "code",
   "execution_count": 40,
   "metadata": {},
   "outputs": [
    {
     "data": {
      "text/plain": [
       "array([10., 10.])"
      ]
     },
     "execution_count": 40,
     "metadata": {},
     "output_type": "execute_result"
    }
   ],
   "source": [
    "N_a0, N_b0 = 100, 100\n",
    "N = np.array([N_a0, N_b0])\n",
    "N*.1"
   ]
  },
  {
   "cell_type": "code",
   "execution_count": 43,
   "metadata": {},
   "outputs": [
    {
     "data": {
      "text/plain": [
       "array([0., 0.])"
      ]
     },
     "execution_count": 43,
     "metadata": {},
     "output_type": "execute_result"
    }
   ],
   "source": [
    "N_list = []\n",
    "N_list = np.array(N_list)\n",
    "N_list = np.append(N_list, [0, 0])\n",
    "N_list"
   ]
  },
  {
   "cell_type": "code",
   "execution_count": 83,
   "metadata": {},
   "outputs": [
    {
     "data": {
      "text/plain": [
       "Text(0, 0.5, 'V_in (units)')"
      ]
     },
     "execution_count": 83,
     "metadata": {},
     "output_type": "execute_result"
    },
    {
     "data": {
      "image/png": "[encoded data removed]",
      "text/plain": [
       "<Figure size 432x288 with 1 Axes>"
      ]
     },
     "metadata": {
      "needs_background": "light"
     },
     "output_type": "display_data"
    }
   ],
   "source": [
    "t = np.linspace(t0,t_final,1000) \n",
    "V_in = sp.signal.square(t*2*np.pi)\n",
    "\n",
    "plt.plot(t, V_in)\n",
    "plt.xlabel(\"time (units)\")\n",
    "plt.ylabel(\"V_in (units)\")\n"
   ]
  },
  {
   "cell_type": "code",
   "execution_count": null,
   "metadata": {},
   "outputs": [],
   "source": []
  }
 ],
 "metadata": {
  "kernelspec": {
   "display_name": "Python 3",
   "language": "python",
   "name": "python3"
  },
  "language_info": {
   "codemirror_mode": {
    "name": "ipython",
    "version": 3
   },
   "file_extension": ".py",
   "mimetype": "text/x-python",
   "name": "python",
   "nbconvert_exporter": "python",
   "pygments_lexer": "ipython3",
   "version": "3.7.3"
  }
 },
 "nbformat": 4,
 "nbformat_minor": 4
}
