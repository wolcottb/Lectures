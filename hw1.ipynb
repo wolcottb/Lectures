{
 "cells": [
  {
   "cell_type": "code",
   "execution_count": 12,
   "metadata": {},
   "outputs": [],
   "source": [
    "# benjamin_wolcott@brown.edu, wolcottb\n",
    "# HW 1\n",
    "\n",
    "import numpy as np\n",
    "import matplotlib.pyplot as plt\n",
    "import scipy as sp\n",
    "import scipy.signal\n",
    "%matplotlib inline  "
   ]
  },
  {
   "cell_type": "code",
   "execution_count": 13,
   "metadata": {},
   "outputs": [],
   "source": [
    "# ODE Integrator Using RK4 Method\n",
    "\n",
    "def approx_rk4(dt, t_final, R, C, Q0, t0=0.0):\n",
    "    \n",
    "    # number of time steps, nust be an integer\n",
    "    n  = int(t_final/dt) \n",
    "    \n",
    "    #initialize some empty lists to store our data and time steps\n",
    "    Q_list = []\n",
    "    t_list = []\n",
    "    \n",
    "    # the main loop over all time steps\n",
    "    for ii in range(n):\n",
    "        if ii == 0.0:\n",
    "            # set initial conditions at time zero\n",
    "            Q = Q0\n",
    "            t = t0\n",
    "        else :            \n",
    "            k1 = -dt*Q\n",
    "            Q1 = Q + k1/2\n",
    "            k2 = dt*g(R, C, Q1)\n",
    "            Q2 = Q + k2/2\n",
    "            k3 = dt*g(R, C, Q2)\n",
    "            Q3 = Q + k3\n",
    "            k4 = dt*g(R, C, Q3)\n",
    "            \n",
    "            # update value of Q at each time step and step time by dt\n",
    "            Q+= (1/6)*(k1 + 2*k2 + 2*k3 + k4)\n",
    "            t+= dt\n",
    "            \n",
    "            \n",
    "        # use append to add on to the end of a list\n",
    "        Q_list.append(Q)\n",
    "        t_list.append(t)\n",
    "    \n",
    "    # we turn the lists into numpy arrays before returning\n",
    "    \n",
    "    Q_list = np.array(Q_list)\n",
    "    t_list = np.array(t_list)\n",
    "    \n",
    "    return t_list, Q_list\n"
   ]
  },
  {
   "cell_type": "code",
   "execution_count": 26,
   "metadata": {},
   "outputs": [
    {
     "data": {
      "text/plain": [
       "Text(0, 0.5, 'V_out (units)')"
      ]
     },
     "execution_count": 26,
     "metadata": {},
     "output_type": "execute_result"
    },
    {
     "data": {
      "image/png": "[encoded data removed]",
      "text/plain": [
       "<Figure size 432x288 with 1 Axes>"
      ]
     },
     "metadata": {
      "needs_background": "light"
     },
     "output_type": "display_data"
    },
    {
     "data": {
      "image/png": "[encoded data removed]",
      "text/plain": [
       "<Figure size 432x288 with 1 Axes>"
      ]
     },
     "metadata": {
      "needs_background": "light"
     },
     "output_type": "display_data"
    }
   ],
   "source": [
    "# Problem 1\n",
    "\n",
    "# Using V_c = V_in*(1 - exp(-t/R/C)) and V_in - V_out - V_c = 0, we get V_out = V_in*exp(-t/R/C)\n",
    "# and dV_out/dt = (-1/R/C)*V_c\n",
    "\n",
    "# Use RK4 integrator to solve for square wave input signal\n",
    "\n",
    "# define exact function and derivative\n",
    "def exact(t, R, C, V_in, t0 =0.0):\n",
    "    V_out = V_in*np.exp(-t/R/C)\n",
    "    return V_out\n",
    "\n",
    "def g(R, C, V_c):\n",
    "    g = (-1/R/C)*V_c\n",
    "    return g\n",
    "\n",
    "# Define our constants\n",
    "Q0, t0 = 10, 0.0\n",
    "t_final, dt = 10, 0.01\n",
    "R, C = 1, 0.01 \n",
    "\n",
    "# Define t and V_in\n",
    "t = np.linspace(t0,t_final,1000) \n",
    "V_in = sp.signal.square(t*2*np.pi)\n",
    "plt.plot(t, V_in)\n",
    "plt.xlabel(\"time (units)\")\n",
    "plt.ylabel(\"V_in (units)\")\n",
    "\n",
    "# Calculate the exact solution\n",
    "Q_exact = exact(t, R, C, Q0)\n",
    "\n",
    "#Call our  approximate function, this returns function values and time points \n",
    "t_approx4, Q_approx4 = approx_rk4(dt, t_final, R, C, Q0)\n",
    "\n",
    "# Generate plots \n",
    "fig = plt.figure()\n",
    "ax = fig.add_subplot(111)\n",
    "ax.plot(t, Q_exact, linestyle = '-', label = \"exact\")\n",
    "ax.plot(t_approx4, Q_approx4, linestyle = '-', label = \"rk4\")\n",
    "\n",
    "\n",
    "# plot approximate solution (use discrete points with no connecting line)\n",
    "ax.plot()\n",
    "\n",
    "plt.legend()\n",
    "plt.xlabel(\"time (units)\")\n",
    "plt.ylabel(\"V_out (units)\")\n"
   ]
  },
  {
   "cell_type": "code",
   "execution_count": null,
   "metadata": {},
   "outputs": [],
   "source": [
    "# Problem 2\n",
    "\n",
    "def g_a(N_a, T_a):\n",
    "    g_a = (-\n",
    "    return g_a\n"
   ]
  }
 ],
 "metadata": {
  "kernelspec": {
   "display_name": "Python 3",
   "language": "python",
   "name": "python3"
  },
  "language_info": {
   "codemirror_mode": {
    "name": "ipython",
    "version": 3
   },
   "file_extension": ".py",
   "mimetype": "text/x-python",
   "name": "python",
   "nbconvert_exporter": "python",
   "pygments_lexer": "ipython3",
   "version": "3.7.3"
  }
 },
 "nbformat": 4,
 "nbformat_minor": 4
}
