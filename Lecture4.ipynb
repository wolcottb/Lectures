{
 "cells": [
  {
   "cell_type": "markdown",
   "metadata": {},
   "source": [
    "# Lecture 4, Developing a physical model \n",
    "\n",
    "\n",
    "**Overview:**\n",
    "* Drag in one dimension.\n",
    "* Running python code.\n",
    "* More object oriented programing in Python, developing our \"Particle.py\" class.\n",
    "*  Moving code out of the Jupyter Notebook to make it reusable. The `run` statement and simple imports.\n",
    "\n",
    "**Next Lecture:** Non-linear oscillations and chaos."
   ]
  },
  {
   "cell_type": "markdown",
   "metadata": {},
   "source": [
    "## Tasks \n",
    "### Importing and running code\n",
    "\n",
    "1. In your current working directory, create a new text file called \"Test.py\". Open \"Test.py\" in a text editor, define a simple string inside the file, and type the command to print that string i.e.\n",
    "        \n",
    "        word = \"hello\"\n",
    "        print(word)\n",
    "        \n",
    "  save the file.\n",
    "\n",
    "\n",
    "2. Now in this Jupyter Notebook, enter the command `run Test.py`. In another cell, check if you have access to the variable named `word`? *Note that you must have the Jupyter notebook open in the same directory where \"Test.py\" is saved. To check, type* `ls` *in a notebook code cell, you should see an output of the current working directory listing and \"Test.py\" should be listed here.*\n",
    "\n",
    "\n",
    "3. Now restart the Kernel and try `import Test` in another cell of the notebook. Do you have access to the variable `word` from this import? Try the 'dot' notation i.e. type `Test.` and then use the Tab key to see available completions. \n",
    "\n",
    "\n",
    "5. Finally, open \"Test.py\" in your text editor and change the string in the variable `word` to something different. Try `run Test.py` and `import Test` again. What do you notice?\n",
    "\n",
    "\n",
    "6. Write a simple python function in the file \"test.py\" and save the file. Example function:\n",
    "        \n",
    "        def factorial(x):\n",
    "           f = x\n",
    "           for ii in reversed(range(x)[1:]):\n",
    "               f = f*ii\n",
    "           return f\n",
    "    \n",
    "    \n",
    "7. From the Jupyter notebook menu, click 'Kernel' ->  'Restart & Clear Output'. \n",
    "\n",
    "\n",
    "8. In the Jupyter notebook, run `Import Test`, again.  Can you access and use your function? (Use the dot notation)\n",
    "\n",
    "\n",
    "9. Try the command `run Test.py` again. Can you access and use your function? \n",
    "\n",
    "\n",
    "10. Think about when you might want to use `import` and when you might want to use `run` for your own code. \n",
    "           \n",
    "           \n",
    "11. Import the `sys` module and print the attribute `sys.path`. What do you think is the meaning of this variable ? For detailed explanations, read the help file.\n",
    "\n",
    "\n",
    "### Particle Object\n",
    "1. Extend particle class and all subclasses to 3-Dimensions (use numpy arrays).\n",
    "\n",
    "\n",
    "2. Try writing a class for an electric charge in $\\vec{E}$ and $\\vec{B}$ fields. $\\vec{F} = q(\\vec{E} + \\vec{v}\\times \\vec{B})$.\n",
    "\n",
    "\n",
    "3. Import your class into this work book and use it to explore the dynamics of an electric charge $\\vec{E}$ and $\\vec{B}$ fields."
   ]
  },
  {
   "cell_type": "code",
   "execution_count": null,
   "metadata": {},
   "outputs": [],
   "source": []
  }
 ],
 "metadata": {
  "kernelspec": {
   "display_name": "Python 3",
   "language": "python",
   "name": "python3"
  },
  "language_info": {
   "codemirror_mode": {
    "name": "ipython",
    "version": 3
   },
   "file_extension": ".py",
   "mimetype": "text/x-python",
   "name": "python",
   "nbconvert_exporter": "python",
   "pygments_lexer": "ipython3",
   "version": "3.6.8"
  }
 },
 "nbformat": 4,
 "nbformat_minor": 2
}
